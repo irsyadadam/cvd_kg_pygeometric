{
  "nbformat": 4,
  "nbformat_minor": 0,
  "metadata": {
    "colab": {
      "name": "PyG.ipynb",
      "provenance": []
    },
    "kernelspec": {
      "name": "python3",
      "display_name": "Python 3"
    },
    "language_info": {
      "name": "python"
    },
    "gpuClass": "standard"
  },
  "cells": [
    {
      "cell_type": "code",
      "execution_count": 1,
      "metadata": {
        "id": "ypjY6k4zw0MV",
        "colab": {
          "base_uri": "https://localhost:8080/"
        },
        "outputId": "e33411db-27a0-421c-8324-bb9876afa60b"
      },
      "outputs": [
        {
          "output_type": "stream",
          "name": "stdout",
          "text": [
            "Looking in indexes: https://pypi.org/simple, https://us-python.pkg.dev/colab-wheels/public/simple/\n",
            "Looking in links: https://data.pyg.org/whl/torch-1.11.0+cpu.html\n",
            "Collecting torch-scatter\n",
            "  Downloading https://data.pyg.org/whl/torch-1.11.0%2Bcpu/torch_scatter-2.0.9-cp37-cp37m-linux_x86_64.whl (292 kB)\n",
            "\u001b[K     |████████████████████████████████| 292 kB 5.7 MB/s \n",
            "\u001b[?25hCollecting torch-sparse\n",
            "  Downloading https://data.pyg.org/whl/torch-1.11.0%2Bcpu/torch_sparse-0.6.14-cp37-cp37m-linux_x86_64.whl (648 kB)\n",
            "\u001b[K     |████████████████████████████████| 648 kB 22.2 MB/s \n",
            "\u001b[?25hCollecting torch-cluster\n",
            "  Downloading https://data.pyg.org/whl/torch-1.11.0%2Bcpu/torch_cluster-1.6.0-cp37-cp37m-linux_x86_64.whl (317 kB)\n",
            "\u001b[K     |████████████████████████████████| 317 kB 27.9 MB/s \n",
            "\u001b[?25hCollecting torch-spline-conv\n",
            "  Downloading https://data.pyg.org/whl/torch-1.11.0%2Bcpu/torch_spline_conv-1.2.1-cp37-cp37m-linux_x86_64.whl (140 kB)\n",
            "\u001b[K     |████████████████████████████████| 140 kB 12.7 MB/s \n",
            "\u001b[?25hCollecting torch-geometric\n",
            "  Downloading torch_geometric-2.0.4.tar.gz (407 kB)\n",
            "\u001b[K     |████████████████████████████████| 407 kB 4.1 MB/s \n",
            "\u001b[?25hRequirement already satisfied: scipy in /usr/local/lib/python3.7/dist-packages (from torch-sparse) (1.4.1)\n",
            "Requirement already satisfied: tqdm in /usr/local/lib/python3.7/dist-packages (from torch-geometric) (4.64.0)\n",
            "Requirement already satisfied: numpy in /usr/local/lib/python3.7/dist-packages (from torch-geometric) (1.21.6)\n",
            "Requirement already satisfied: pandas in /usr/local/lib/python3.7/dist-packages (from torch-geometric) (1.3.5)\n",
            "Requirement already satisfied: jinja2 in /usr/local/lib/python3.7/dist-packages (from torch-geometric) (2.11.3)\n",
            "Requirement already satisfied: requests in /usr/local/lib/python3.7/dist-packages (from torch-geometric) (2.23.0)\n",
            "Requirement already satisfied: pyparsing in /usr/local/lib/python3.7/dist-packages (from torch-geometric) (3.0.9)\n",
            "Requirement already satisfied: scikit-learn in /usr/local/lib/python3.7/dist-packages (from torch-geometric) (1.0.2)\n",
            "Requirement already satisfied: MarkupSafe>=0.23 in /usr/local/lib/python3.7/dist-packages (from jinja2->torch-geometric) (2.0.1)\n",
            "Requirement already satisfied: python-dateutil>=2.7.3 in /usr/local/lib/python3.7/dist-packages (from pandas->torch-geometric) (2.8.2)\n",
            "Requirement already satisfied: pytz>=2017.3 in /usr/local/lib/python3.7/dist-packages (from pandas->torch-geometric) (2022.1)\n",
            "Requirement already satisfied: six>=1.5 in /usr/local/lib/python3.7/dist-packages (from python-dateutil>=2.7.3->pandas->torch-geometric) (1.15.0)\n",
            "Requirement already satisfied: idna<3,>=2.5 in /usr/local/lib/python3.7/dist-packages (from requests->torch-geometric) (2.10)\n",
            "Requirement already satisfied: certifi>=2017.4.17 in /usr/local/lib/python3.7/dist-packages (from requests->torch-geometric) (2022.6.15)\n",
            "Requirement already satisfied: urllib3!=1.25.0,!=1.25.1,<1.26,>=1.21.1 in /usr/local/lib/python3.7/dist-packages (from requests->torch-geometric) (1.24.3)\n",
            "Requirement already satisfied: chardet<4,>=3.0.2 in /usr/local/lib/python3.7/dist-packages (from requests->torch-geometric) (3.0.4)\n",
            "Requirement already satisfied: threadpoolctl>=2.0.0 in /usr/local/lib/python3.7/dist-packages (from scikit-learn->torch-geometric) (3.1.0)\n",
            "Requirement already satisfied: joblib>=0.11 in /usr/local/lib/python3.7/dist-packages (from scikit-learn->torch-geometric) (1.1.0)\n",
            "Building wheels for collected packages: torch-geometric\n",
            "  Building wheel for torch-geometric (setup.py) ... \u001b[?25l\u001b[?25hdone\n",
            "  Created wheel for torch-geometric: filename=torch_geometric-2.0.4-py3-none-any.whl size=616603 sha256=ec6a0ecba0184877b77b03a20eed88da33e8cdae623cb7cdb99b910c83a5a4ed\n",
            "  Stored in directory: /root/.cache/pip/wheels/18/a6/a4/ca18c3051fcead866fe7b85700ee2240d883562a1bc70ce421\n",
            "Successfully built torch-geometric\n",
            "Installing collected packages: torch-spline-conv, torch-sparse, torch-scatter, torch-geometric, torch-cluster\n",
            "Successfully installed torch-cluster-1.6.0 torch-geometric-2.0.4 torch-scatter-2.0.9 torch-sparse-0.6.14 torch-spline-conv-1.2.1\n"
          ]
        }
      ],
      "source": [
        "!pip install torch-scatter torch-sparse torch-cluster torch-spline-conv torch-geometric -f https://data.pyg.org/whl/torch-1.11.0+cpu.html"
      ]
    },
    {
      "cell_type": "code",
      "source": [
        "%matplotlib inline\n",
        "\n",
        "from torch_geometric.data import Data, DataLoader\n",
        "from torch_geometric.datasets import TUDataset, Planetoid\n",
        "from torch_geometric.nn import GCNConv, GNNExplainer\n",
        "import torch_geometric.transforms as T\n",
        "import torch\n",
        "import torch.nn.functional as F\n",
        "import os\n",
        "from tqdm import tqdm, trange\n",
        "import matplotlib.pyplot as plt"
      ],
      "metadata": {
        "id": "lxZHZ-fOw6Jo"
      },
      "execution_count": 2,
      "outputs": []
    },
    {
      "cell_type": "markdown",
      "source": [
        "![img](https://graphsandnetworks.com/wp-content/uploads/2019/09/CoraBalloons.png)"
      ],
      "metadata": {
        "id": "4G0X4_Q4-2_J"
      }
    },
    {
      "cell_type": "code",
      "source": [
        "#Load the dataset\n",
        "dataset = 'cora'\n",
        "path = os.path.join(os.getcwd(), 'data', 'Planetoid')\n",
        "train_dataset = Planetoid(path, dataset, transform=T.NormalizeFeatures())\n",
        "\n",
        "# Since the dataset is comprised of a single huge graph, \n",
        "# we extract that graph by indexing 0.\n",
        "data = train_dataset[0]\n",
        "\n",
        "# Since there is only 1 graph, the train/test split is \n",
        "# done by masking regions of the graph. We split the last 500+500 nodes \n",
        "# as val and test, and use the rest as the training data.\n",
        "data.train_mask = torch.zeros(data.num_nodes, dtype=torch.bool)\n",
        "data.train_mask[:data.num_nodes - 1000] = 1\n",
        "data.val_mask = None\n",
        "data.test_mask = torch.zeros(data.num_nodes, dtype=torch.bool)\n",
        "data.test_mask[data.num_nodes - 500:] = 1"
      ],
      "metadata": {
        "colab": {
          "base_uri": "https://localhost:8080/"
        },
        "id": "LcTTs83Vw6MX",
        "outputId": "23cc576d-e970-4001-eb2c-07b0941763de"
      },
      "execution_count": 3,
      "outputs": [
        {
          "output_type": "stream",
          "name": "stderr",
          "text": [
            "Downloading https://github.com/kimiyoung/planetoid/raw/master/data/ind.cora.x\n",
            "Downloading https://github.com/kimiyoung/planetoid/raw/master/data/ind.cora.tx\n",
            "Downloading https://github.com/kimiyoung/planetoid/raw/master/data/ind.cora.allx\n",
            "Downloading https://github.com/kimiyoung/planetoid/raw/master/data/ind.cora.y\n",
            "Downloading https://github.com/kimiyoung/planetoid/raw/master/data/ind.cora.ty\n",
            "Downloading https://github.com/kimiyoung/planetoid/raw/master/data/ind.cora.ally\n",
            "Downloading https://github.com/kimiyoung/planetoid/raw/master/data/ind.cora.graph\n",
            "Downloading https://github.com/kimiyoung/planetoid/raw/master/data/ind.cora.test.index\n",
            "Processing...\n",
            "Done!\n"
          ]
        }
      ]
    },
    {
      "cell_type": "code",
      "source": [
        "class Network(torch.nn.Module):\n",
        "    def __init__(self, num_features, dim=16, num_classes=1):\n",
        "        super(Network, self).__init__()\n",
        "        self.conv1 = GCNConv(num_features, dim)\n",
        "        self.conv2 = GCNConv(dim, num_classes)\n",
        "\n",
        "    def forward(self, x, edge_index, data=None):\n",
        "        x = F.relu(self.conv1(x, edge_index))\n",
        "        x = F.dropout(x, training=self.training)\n",
        "        x = self.conv2(x, edge_index)\n",
        "        return F.log_softmax(x, dim=1)\n",
        "\n",
        "    "
      ],
      "metadata": {
        "id": "FEvKcEuww6PO"
      },
      "execution_count": 4,
      "outputs": []
    },
    {
      "cell_type": "code",
      "source": [
        "epochs = 200\n",
        "dim = 16 "
      ],
      "metadata": {
        "id": "1HcRqJ2cw6SG"
      },
      "execution_count": 5,
      "outputs": []
    },
    {
      "cell_type": "code",
      "source": [
        "device = torch.device('cuda' if torch.cuda.is_available() else 'cpu')\n",
        "\n",
        "model = Network(num_features=train_dataset.num_features,\\\n",
        "            dim=dim, num_classes=train_dataset.num_classes).to(device)\n",
        "\n",
        "optimizer = torch.optim.Adam(model.parameters(), lr=0.01, weight_decay=5e-3)"
      ],
      "metadata": {
        "id": "WZdFoSJ6w6Ve"
      },
      "execution_count": 6,
      "outputs": []
    },
    {
      "cell_type": "code",
      "source": [
        "for t in model.parameters():\n",
        "  print(t)"
      ],
      "metadata": {
        "colab": {
          "base_uri": "https://localhost:8080/"
        },
        "id": "ravetK-PExEk",
        "outputId": "981368ac-dfe3-4f6d-d1dd-08a3b8d71dd8"
      },
      "execution_count": 13,
      "outputs": [
        {
          "output_type": "stream",
          "name": "stdout",
          "text": [
            "Parameter containing:\n",
            "tensor([ 4.9933e-02, -4.4160e-03,  1.0246e-01,  3.9705e-02,  1.0048e-01,\n",
            "         1.4068e-01,  1.3704e-01,  1.6295e-02,  2.9191e-02,  1.0935e-05,\n",
            "         7.8219e-02,  1.1678e-01,  7.4655e-02, -2.4352e-03,  4.7722e-02,\n",
            "         7.7246e-02], requires_grad=True)\n",
            "Parameter containing:\n",
            "tensor([[-1.1526e-02,  1.1057e-02, -1.6177e-02,  ...,  8.6463e-04,\n",
            "         -2.4407e-02,  1.0108e-02],\n",
            "        [ 8.6416e-07,  1.3368e-06,  3.2446e-07,  ...,  4.1085e-07,\n",
            "         -3.2649e-07, -8.1804e-07],\n",
            "        [-3.1768e-03,  2.6111e-04,  6.5403e-03,  ..., -4.7769e-04,\n",
            "         -3.1667e-03,  3.5198e-02],\n",
            "        ...,\n",
            "        [-1.8746e-07,  1.8407e-07, -1.2634e-07,  ...,  3.1878e-07,\n",
            "         -7.1553e-07,  1.4720e-06],\n",
            "        [-1.1755e-02,  1.2683e-02, -4.9173e-02,  ..., -8.5445e-03,\n",
            "         -5.0454e-02,  3.3893e-03],\n",
            "        [ 4.3643e-03, -2.1714e-03, -4.4452e-04,  ...,  2.2692e-03,\n",
            "         -7.3353e-03, -1.2941e-02]], requires_grad=True)\n",
            "Parameter containing:\n",
            "tensor([-0.0500, -0.4175,  0.1823,  0.4501,  0.0054, -0.0268, -0.4603],\n",
            "       requires_grad=True)\n",
            "Parameter containing:\n",
            "tensor([[-4.7969e-01, -1.3075e-05, -3.6693e-01, -4.5734e-01, -1.3228e-02,\n",
            "          5.0498e-01,  3.5734e-01,  3.3397e-02, -2.8810e-01, -2.5474e-05,\n",
            "         -2.6703e-01,  1.8065e-01,  2.1902e-01,  2.2086e-07, -5.9086e-01,\n",
            "          2.2109e-01],\n",
            "        [-1.4612e-01, -2.7257e-05, -3.4414e-01, -6.2070e-02, -2.8612e-01,\n",
            "         -5.1718e-02, -1.9710e-01, -4.3190e-03, -5.2754e-02, -4.9827e-06,\n",
            "         -2.6359e-01, -2.3234e-01,  2.0765e-01, -2.8357e-06, -8.0320e-02,\n",
            "          9.4022e-02],\n",
            "        [ 8.4833e-01, -4.5642e-06, -8.1582e-01,  1.5356e+00, -1.1585e+00,\n",
            "         -3.1835e-01, -1.3732e+00, -1.9244e-02,  1.4559e+00, -1.8974e-06,\n",
            "         -6.4494e-01, -1.2157e+00,  1.2949e+00, -4.7237e-07,  1.7785e+00,\n",
            "          1.1501e+00],\n",
            "        [ 9.3241e-01, -6.2926e-06,  1.5343e+00,  3.4585e-01,  1.1656e+00,\n",
            "         -5.2548e-01,  3.8706e-01, -2.0001e-02, -3.8969e-01, -7.8453e-06,\n",
            "          1.4280e+00,  8.9122e-01, -1.4294e+00,  1.0450e-05,  6.5739e-01,\n",
            "         -1.5336e+00],\n",
            "        [-3.6058e-01, -2.5863e-05,  9.7101e-01, -6.1457e-01,  8.2342e-01,\n",
            "          1.2558e-02,  8.5122e-01,  8.6214e-04, -3.4863e-01, -6.9032e-06,\n",
            "          6.1965e-01,  7.2583e-01, -9.6189e-01, -4.5655e-06, -8.2981e-01,\n",
            "         -4.7217e-01],\n",
            "        [-5.9882e-01,  1.4296e-05, -7.2139e-01, -5.4594e-01, -3.3710e-01,\n",
            "          3.7287e-01,  1.3942e-01,  3.7618e-02, -3.2446e-01,  4.1600e-06,\n",
            "         -6.5972e-01, -1.6225e-01,  4.8649e-01,  1.2459e-05, -7.0856e-01,\n",
            "          4.6501e-01],\n",
            "        [-3.3400e-01, -2.6121e-05, -4.4396e-01, -2.7522e-01, -2.9523e-01,\n",
            "          6.8360e-02, -8.7478e-02, -3.6734e-03, -1.3920e-01,  2.5334e-05,\n",
            "         -3.8582e-01, -2.1154e-01,  1.8637e-01, -6.2163e-06, -3.7486e-01,\n",
            "          1.1024e-01]], requires_grad=True)\n"
          ]
        }
      ]
    },
    {
      "cell_type": "code",
      "source": [
        "device"
      ],
      "metadata": {
        "colab": {
          "base_uri": "https://localhost:8080/"
        },
        "id": "Qe9-M9K6w6Y4",
        "outputId": "7e8f7656-e5e9-480a-e7c9-d4a3b97e7610"
      },
      "execution_count": 7,
      "outputs": [
        {
          "output_type": "execute_result",
          "data": {
            "text/plain": [
              "device(type='cpu')"
            ]
          },
          "metadata": {},
          "execution_count": 7
        }
      ]
    },
    {
      "cell_type": "code",
      "source": [
        "def test(model, data):\n",
        "    model.eval()\n",
        "    logits, accs = model(data.x, data.edge_index, data), []\n",
        "    for _, mask in data('train_mask', 'test_mask'):\n",
        "        pred = logits[mask].max(1)[1]\n",
        "        acc = pred.eq(data.y[mask]).sum().item() / mask.sum().item()\n",
        "        accs.append(acc)\n",
        "    return accs"
      ],
      "metadata": {
        "id": "hKncdWaGw6bu"
      },
      "execution_count": 8,
      "outputs": []
    },
    {
      "cell_type": "code",
      "source": [
        "loss = 999.0\n",
        "train_acc = 0.0\n",
        "test_acc = 0.0\n",
        "\n",
        "t = trange(epochs, desc=\"Stats: \", position=0)\n",
        "\n",
        "for epoch in t:\n",
        "\n",
        "    model.train()\n",
        "    \n",
        "    loss = 0\n",
        "\n",
        "    data = data.to(device)\n",
        "    optimizer.zero_grad()\n",
        "    log_logits = model(data.x, data.edge_index, data)\n",
        "\n",
        "    # Since the data is a single huge graph, training on the training set \n",
        "    #is done by masking the nodes that are not in the training set.\n",
        "    loss = F.nll_loss(log_logits[data.train_mask], data.y[data.train_mask])\n",
        "    loss.backward()\n",
        "    optimizer.step()\n",
        "\n",
        "    # validate\n",
        "    train_acc, test_acc = test(model, data)\n",
        "    train_loss = loss\n",
        "    \n",
        "    t.set_description('[Train_loss:{:.6f} Train_acc: {:.4f}, Test_acc: {:.4f}]'.format(loss, train_acc, test_acc))\n",
        "    "
      ],
      "metadata": {
        "colab": {
          "base_uri": "https://localhost:8080/"
        },
        "id": "mTU_t3HpyFvg",
        "outputId": "092bdac1-adcf-4ed5-c4e0-76243c0b434f"
      },
      "execution_count": 9,
      "outputs": [
        {
          "output_type": "stream",
          "name": "stderr",
          "text": [
            "[Train_loss:1.572080 Train_acc: 0.4286, Test_acc: 0.4400]: 100%|██████████| 200/200 [00:16<00:00, 11.88it/s]\n"
          ]
        }
      ]
    },
    {
      "cell_type": "code",
      "source": [
        "node_idx = 10\n",
        "x, edge_index = data.x, data.edge_index\n",
        "explainer = GNNExplainer(model, epochs=200)\n",
        "node_feat_mask, edge_mask = explainer.explain_node(node_idx, x, edge_index)"
      ],
      "metadata": {
        "colab": {
          "base_uri": "https://localhost:8080/"
        },
        "id": "kYqiOKBnyFyo",
        "outputId": "5406566a-dcb1-49ba-f60f-514518fea614"
      },
      "execution_count": 10,
      "outputs": [
        {
          "output_type": "stream",
          "name": "stderr",
          "text": [
            "Explain node 10: 100%|██████████| 200/200 [00:01<00:00, 161.59it/s]\n"
          ]
        }
      ]
    },
    {
      "cell_type": "code",
      "source": [
        "ax, G = explainer.visualize_subgraph(node_idx, edge_index, edge_mask, y=data.y)\n",
        "plt.show()"
      ],
      "metadata": {
        "colab": {
          "base_uri": "https://localhost:8080/",
          "height": 248
        },
        "id": "BOPAqpugyF1t",
        "outputId": "46ffb17d-18db-4e5a-a56a-34b6e821fe7f"
      },
      "execution_count": 11,
      "outputs": [
        {
          "output_type": "display_data",
          "data": {
            "text/plain": [
              "<Figure size 432x288 with 1 Axes>"
            ],
            "image/png": "[encoded data removed]"
          },
          "metadata": {}
        }
      ]
    },
    {
      "cell_type": "code",
      "source": [
        ""
      ],
      "metadata": {
        "id": "U1F58n9LyF4l"
      },
      "execution_count": 11,
      "outputs": []
    },
    {
      "cell_type": "code",
      "source": [
        ""
      ],
      "metadata": {
        "id": "GU-EB2s9yF7t"
      },
      "execution_count": 11,
      "outputs": []
    },
    {
      "cell_type": "code",
      "source": [
        ""
      ],
      "metadata": {
        "id": "MwyuwpYuyF-T"
      },
      "execution_count": 11,
      "outputs": []
    },
    {
      "cell_type": "code",
      "source": [
        ""
      ],
      "metadata": {
        "id": "gY0X9acCyGBn"
      },
      "execution_count": 11,
      "outputs": []
    }
  ]
}