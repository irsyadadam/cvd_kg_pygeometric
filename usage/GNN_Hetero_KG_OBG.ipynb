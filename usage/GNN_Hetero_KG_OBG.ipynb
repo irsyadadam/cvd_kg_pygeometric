{
  "cells": [
    {
      "cell_type": "code",
      "execution_count": 1,
      "metadata": {
        "colab": {
          "base_uri": "https://localhost:8080/"
        },
        "id": "B-9gIznUF_ME",
        "outputId": "5b2c5365-1662-47a9-bb95-fef8b5c0e025"
      },
      "outputs": [
        {
          "name": "stderr",
          "output_type": "stream",
          "text": [
            "c:\\Users\\irsya\\anaconda3\\envs\\pygeometric\\lib\\site-packages\\tqdm\\auto.py:22: TqdmWarning: IProgress not found. Please update jupyter and ipywidgets. See https://ipywidgets.readthedocs.io/en/stable/user_install.html\n",
            "  from .autonotebook import tqdm as notebook_tqdm\n"
          ]
        },
        {
          "name": "stdout",
          "output_type": "stream",
          "text": [
            "1.12.0\n"
          ]
        }
      ],
      "source": [
        "# Install required packages.\n",
        "import os\n",
        "import torch\n",
        "os.environ['TORCH'] = torch.__version__\n",
        "print(torch.__version__)\n",
        "from tqdm import tqdm, trange"
      ]
    },
    {
      "cell_type": "code",
      "execution_count": 3,
      "metadata": {
        "id": "iDC3VfJViDfD"
      },
      "outputs": [],
      "source": [
        "# !pip install torch-scatter torch-sparse torch-cluster torch-spline-conv torch-geometric -f https://data.pyg.org/whl/torch-1.11.0+cpu.html"
      ]
    },
    {
      "cell_type": "code",
      "execution_count": 2,
      "metadata": {
        "id": "3_rmmmZSGQGY"
      },
      "outputs": [],
      "source": [
        "import numpy as np\n",
        "import torch\n",
        "from torch_geometric.data import HeteroData\n",
        "import torch_geometric.transforms as T\n",
        "from torch_geometric.nn import Sequential, Linear\n",
        "from torch.nn import ReLU\n",
        "from torch_geometric.datasets import OGB_MAG\n",
        "from torch_geometric.nn import SAGEConv, to_hetero\n",
        "from torch_geometric.loader import NeighborLoader, HGTLoader\n",
        "from torch.nn import Linear\n",
        "import torch.nn.functional as F\n",
        "from torch_geometric.nn import GCNConv #GATConv"
      ]
    },
    {
      "cell_type": "code",
      "execution_count": 3,
      "metadata": {
        "colab": {
          "base_uri": "https://localhost:8080/"
        },
        "id": "qZ9zUbSP8j8y",
        "outputId": "48008a0a-f1a7-4908-b4b6-46bf4b568daa"
      },
      "outputs": [
        {
          "name": "stderr",
          "output_type": "stream",
          "text": [
            "Downloading http://snap.stanford.edu/ogb/data/nodeproppred/mag.zip\n",
            "Extracting data\\mag\\raw\\mag.zip\n",
            "Downloading https://data.pyg.org/datasets/mag_metapath2vec_emb.zip\n"
          ]
        },
        {
          "ename": "KeyboardInterrupt",
          "evalue": "",
          "output_type": "error",
          "traceback": [
            "\u001b[1;31m---------------------------------------------------------------------------\u001b[0m",
            "\u001b[1;31mKeyboardInterrupt\u001b[0m                         Traceback (most recent call last)",
            "\u001b[1;32mc:\\Users\\irsya\\Documents\\Research\\Ping Lab Git Repos\\cvd_kg_pygeometric\\usage\\GNN_Hetero_KG_OBG.ipynb Cell 4\u001b[0m in \u001b[0;36m<cell line: 1>\u001b[1;34m()\u001b[0m\n\u001b[1;32m----> <a href='vscode-notebook-cell:/c%3A/Users/irsya/Documents/Research/Ping%20Lab%20Git%20Repos/cvd_kg_pygeometric/usage/GNN_Hetero_KG_OBG.ipynb#ch0000003?line=0'>1</a>\u001b[0m dataset \u001b[39m=\u001b[39m OGB_MAG(root\u001b[39m=\u001b[39;49m\u001b[39m'\u001b[39;49m\u001b[39m./data\u001b[39;49m\u001b[39m'\u001b[39;49m, preprocess\u001b[39m=\u001b[39;49m\u001b[39m'\u001b[39;49m\u001b[39mmetapath2vec\u001b[39;49m\u001b[39m'\u001b[39;49m, transform\u001b[39m=\u001b[39;49mT\u001b[39m.\u001b[39;49mToUndirected())\n\u001b[0;32m      <a href='vscode-notebook-cell:/c%3A/Users/irsya/Documents/Research/Ping%20Lab%20Git%20Repos/cvd_kg_pygeometric/usage/GNN_Hetero_KG_OBG.ipynb#ch0000003?line=1'>2</a>\u001b[0m data \u001b[39m=\u001b[39m dataset[\u001b[39m0\u001b[39m]\n",
            "File \u001b[1;32mc:\\Users\\irsya\\anaconda3\\envs\\pygeometric\\lib\\site-packages\\torch_geometric\\datasets\\ogb_mag.py:57\u001b[0m, in \u001b[0;36mOGB_MAG.__init__\u001b[1;34m(self, root, preprocess, transform, pre_transform)\u001b[0m\n\u001b[0;32m     55\u001b[0m \u001b[39mself\u001b[39m\u001b[39m.\u001b[39mpreprocess \u001b[39m=\u001b[39m preprocess\n\u001b[0;32m     56\u001b[0m \u001b[39massert\u001b[39;00m \u001b[39mself\u001b[39m\u001b[39m.\u001b[39mpreprocess \u001b[39min\u001b[39;00m [\u001b[39mNone\u001b[39;00m, \u001b[39m'\u001b[39m\u001b[39mmetapath2vec\u001b[39m\u001b[39m'\u001b[39m, \u001b[39m'\u001b[39m\u001b[39mtranse\u001b[39m\u001b[39m'\u001b[39m]\n\u001b[1;32m---> 57\u001b[0m \u001b[39msuper\u001b[39;49m()\u001b[39m.\u001b[39;49m\u001b[39m__init__\u001b[39;49m(root, transform, pre_transform)\n\u001b[0;32m     58\u001b[0m \u001b[39mself\u001b[39m\u001b[39m.\u001b[39mdata, \u001b[39mself\u001b[39m\u001b[39m.\u001b[39mslices \u001b[39m=\u001b[39m torch\u001b[39m.\u001b[39mload(\u001b[39mself\u001b[39m\u001b[39m.\u001b[39mprocessed_paths[\u001b[39m0\u001b[39m])\n",
            "File \u001b[1;32mc:\\Users\\irsya\\anaconda3\\envs\\pygeometric\\lib\\site-packages\\torch_geometric\\data\\in_memory_dataset.py:56\u001b[0m, in \u001b[0;36mInMemoryDataset.__init__\u001b[1;34m(self, root, transform, pre_transform, pre_filter)\u001b[0m\n\u001b[0;32m     52\u001b[0m \u001b[39mdef\u001b[39;00m \u001b[39m__init__\u001b[39m(\u001b[39mself\u001b[39m, root: Optional[\u001b[39mstr\u001b[39m] \u001b[39m=\u001b[39m \u001b[39mNone\u001b[39;00m,\n\u001b[0;32m     53\u001b[0m              transform: Optional[Callable] \u001b[39m=\u001b[39m \u001b[39mNone\u001b[39;00m,\n\u001b[0;32m     54\u001b[0m              pre_transform: Optional[Callable] \u001b[39m=\u001b[39m \u001b[39mNone\u001b[39;00m,\n\u001b[0;32m     55\u001b[0m              pre_filter: Optional[Callable] \u001b[39m=\u001b[39m \u001b[39mNone\u001b[39;00m):\n\u001b[1;32m---> 56\u001b[0m     \u001b[39msuper\u001b[39;49m()\u001b[39m.\u001b[39;49m\u001b[39m__init__\u001b[39;49m(root, transform, pre_transform, pre_filter)\n\u001b[0;32m     57\u001b[0m     \u001b[39mself\u001b[39m\u001b[39m.\u001b[39mdata \u001b[39m=\u001b[39m \u001b[39mNone\u001b[39;00m\n\u001b[0;32m     58\u001b[0m     \u001b[39mself\u001b[39m\u001b[39m.\u001b[39mslices \u001b[39m=\u001b[39m \u001b[39mNone\u001b[39;00m\n",
            "File \u001b[1;32mc:\\Users\\irsya\\anaconda3\\envs\\pygeometric\\lib\\site-packages\\torch_geometric\\data\\dataset.py:84\u001b[0m, in \u001b[0;36mDataset.__init__\u001b[1;34m(self, root, transform, pre_transform, pre_filter)\u001b[0m\n\u001b[0;32m     81\u001b[0m \u001b[39mself\u001b[39m\u001b[39m.\u001b[39m_indices: Optional[Sequence] \u001b[39m=\u001b[39m \u001b[39mNone\u001b[39;00m\n\u001b[0;32m     83\u001b[0m \u001b[39mif\u001b[39;00m \u001b[39m'\u001b[39m\u001b[39mdownload\u001b[39m\u001b[39m'\u001b[39m \u001b[39min\u001b[39;00m \u001b[39mself\u001b[39m\u001b[39m.\u001b[39m\u001b[39m__class__\u001b[39m\u001b[39m.\u001b[39m\u001b[39m__dict__\u001b[39m:\n\u001b[1;32m---> 84\u001b[0m     \u001b[39mself\u001b[39;49m\u001b[39m.\u001b[39;49m_download()\n\u001b[0;32m     86\u001b[0m \u001b[39mif\u001b[39;00m \u001b[39m'\u001b[39m\u001b[39mprocess\u001b[39m\u001b[39m'\u001b[39m \u001b[39min\u001b[39;00m \u001b[39mself\u001b[39m\u001b[39m.\u001b[39m\u001b[39m__class__\u001b[39m\u001b[39m.\u001b[39m\u001b[39m__dict__\u001b[39m:\n\u001b[0;32m     87\u001b[0m     \u001b[39mself\u001b[39m\u001b[39m.\u001b[39m_process()\n",
            "File \u001b[1;32mc:\\Users\\irsya\\anaconda3\\envs\\pygeometric\\lib\\site-packages\\torch_geometric\\data\\dataset.py:145\u001b[0m, in \u001b[0;36mDataset._download\u001b[1;34m(self)\u001b[0m\n\u001b[0;32m    142\u001b[0m     \u001b[39mreturn\u001b[39;00m\n\u001b[0;32m    144\u001b[0m makedirs(\u001b[39mself\u001b[39m\u001b[39m.\u001b[39mraw_dir)\n\u001b[1;32m--> 145\u001b[0m \u001b[39mself\u001b[39;49m\u001b[39m.\u001b[39;49mdownload()\n",
            "File \u001b[1;32mc:\\Users\\irsya\\anaconda3\\envs\\pygeometric\\lib\\site-packages\\torch_geometric\\datasets\\ogb_mag.py:105\u001b[0m, in \u001b[0;36mOGB_MAG.download\u001b[1;34m(self)\u001b[0m\n\u001b[0;32m    103\u001b[0m     os\u001b[39m.\u001b[39mremove(osp\u001b[39m.\u001b[39mjoin(\u001b[39mself\u001b[39m\u001b[39m.\u001b[39mraw_dir, \u001b[39m'\u001b[39m\u001b[39mmag.zip\u001b[39m\u001b[39m'\u001b[39m))\n\u001b[0;32m    104\u001b[0m \u001b[39mif\u001b[39;00m \u001b[39mself\u001b[39m\u001b[39m.\u001b[39mpreprocess \u001b[39mis\u001b[39;00m \u001b[39mnot\u001b[39;00m \u001b[39mNone\u001b[39;00m:\n\u001b[1;32m--> 105\u001b[0m     path \u001b[39m=\u001b[39m download_url(\u001b[39mself\u001b[39;49m\u001b[39m.\u001b[39;49murls[\u001b[39mself\u001b[39;49m\u001b[39m.\u001b[39;49mpreprocess], \u001b[39mself\u001b[39;49m\u001b[39m.\u001b[39;49mraw_dir)\n\u001b[0;32m    106\u001b[0m     extract_zip(path, \u001b[39mself\u001b[39m\u001b[39m.\u001b[39mraw_dir)\n\u001b[0;32m    107\u001b[0m     os\u001b[39m.\u001b[39mremove(path)\n",
            "File \u001b[1;32mc:\\Users\\irsya\\anaconda3\\envs\\pygeometric\\lib\\site-packages\\torch_geometric\\data\\download.py:37\u001b[0m, in \u001b[0;36mdownload_url\u001b[1;34m(url, folder, log)\u001b[0m\n\u001b[0;32m     34\u001b[0m data \u001b[39m=\u001b[39m urllib\u001b[39m.\u001b[39mrequest\u001b[39m.\u001b[39murlopen(url, context\u001b[39m=\u001b[39mcontext)\n\u001b[0;32m     36\u001b[0m \u001b[39mwith\u001b[39;00m \u001b[39mopen\u001b[39m(path, \u001b[39m'\u001b[39m\u001b[39mwb\u001b[39m\u001b[39m'\u001b[39m) \u001b[39mas\u001b[39;00m f:\n\u001b[1;32m---> 37\u001b[0m     f\u001b[39m.\u001b[39mwrite(data\u001b[39m.\u001b[39;49mread())\n\u001b[0;32m     39\u001b[0m \u001b[39mreturn\u001b[39;00m path\n",
            "File \u001b[1;32mc:\\Users\\irsya\\anaconda3\\envs\\pygeometric\\lib\\http\\client.py:481\u001b[0m, in \u001b[0;36mHTTPResponse.read\u001b[1;34m(self, amt)\u001b[0m\n\u001b[0;32m    479\u001b[0m \u001b[39melse\u001b[39;00m:\n\u001b[0;32m    480\u001b[0m     \u001b[39mtry\u001b[39;00m:\n\u001b[1;32m--> 481\u001b[0m         s \u001b[39m=\u001b[39m \u001b[39mself\u001b[39;49m\u001b[39m.\u001b[39;49m_safe_read(\u001b[39mself\u001b[39;49m\u001b[39m.\u001b[39;49mlength)\n\u001b[0;32m    482\u001b[0m     \u001b[39mexcept\u001b[39;00m IncompleteRead:\n\u001b[0;32m    483\u001b[0m         \u001b[39mself\u001b[39m\u001b[39m.\u001b[39m_close_conn()\n",
            "File \u001b[1;32mc:\\Users\\irsya\\anaconda3\\envs\\pygeometric\\lib\\http\\client.py:630\u001b[0m, in \u001b[0;36mHTTPResponse._safe_read\u001b[1;34m(self, amt)\u001b[0m\n\u001b[0;32m    623\u001b[0m \u001b[39mdef\u001b[39;00m \u001b[39m_safe_read\u001b[39m(\u001b[39mself\u001b[39m, amt):\n\u001b[0;32m    624\u001b[0m     \u001b[39m\"\"\"Read the number of bytes requested.\u001b[39;00m\n\u001b[0;32m    625\u001b[0m \n\u001b[0;32m    626\u001b[0m \u001b[39m    This function should be used when <amt> bytes \"should\" be present for\u001b[39;00m\n\u001b[0;32m    627\u001b[0m \u001b[39m    reading. If the bytes are truly not available (due to EOF), then the\u001b[39;00m\n\u001b[0;32m    628\u001b[0m \u001b[39m    IncompleteRead exception can be used to detect the problem.\u001b[39;00m\n\u001b[0;32m    629\u001b[0m \u001b[39m    \"\"\"\u001b[39;00m\n\u001b[1;32m--> 630\u001b[0m     data \u001b[39m=\u001b[39m \u001b[39mself\u001b[39;49m\u001b[39m.\u001b[39;49mfp\u001b[39m.\u001b[39;49mread(amt)\n\u001b[0;32m    631\u001b[0m     \u001b[39mif\u001b[39;00m \u001b[39mlen\u001b[39m(data) \u001b[39m<\u001b[39m amt:\n\u001b[0;32m    632\u001b[0m         \u001b[39mraise\u001b[39;00m IncompleteRead(data, amt\u001b[39m-\u001b[39m\u001b[39mlen\u001b[39m(data))\n",
            "File \u001b[1;32mc:\\Users\\irsya\\anaconda3\\envs\\pygeometric\\lib\\socket.py:705\u001b[0m, in \u001b[0;36mSocketIO.readinto\u001b[1;34m(self, b)\u001b[0m\n\u001b[0;32m    703\u001b[0m \u001b[39mwhile\u001b[39;00m \u001b[39mTrue\u001b[39;00m:\n\u001b[0;32m    704\u001b[0m     \u001b[39mtry\u001b[39;00m:\n\u001b[1;32m--> 705\u001b[0m         \u001b[39mreturn\u001b[39;00m \u001b[39mself\u001b[39;49m\u001b[39m.\u001b[39;49m_sock\u001b[39m.\u001b[39;49mrecv_into(b)\n\u001b[0;32m    706\u001b[0m     \u001b[39mexcept\u001b[39;00m timeout:\n\u001b[0;32m    707\u001b[0m         \u001b[39mself\u001b[39m\u001b[39m.\u001b[39m_timeout_occurred \u001b[39m=\u001b[39m \u001b[39mTrue\u001b[39;00m\n",
            "File \u001b[1;32mc:\\Users\\irsya\\anaconda3\\envs\\pygeometric\\lib\\ssl.py:1273\u001b[0m, in \u001b[0;36mSSLSocket.recv_into\u001b[1;34m(self, buffer, nbytes, flags)\u001b[0m\n\u001b[0;32m   1269\u001b[0m     \u001b[39mif\u001b[39;00m flags \u001b[39m!=\u001b[39m \u001b[39m0\u001b[39m:\n\u001b[0;32m   1270\u001b[0m         \u001b[39mraise\u001b[39;00m \u001b[39mValueError\u001b[39;00m(\n\u001b[0;32m   1271\u001b[0m           \u001b[39m\"\u001b[39m\u001b[39mnon-zero flags not allowed in calls to recv_into() on \u001b[39m\u001b[39m%s\u001b[39;00m\u001b[39m\"\u001b[39m \u001b[39m%\u001b[39m\n\u001b[0;32m   1272\u001b[0m           \u001b[39mself\u001b[39m\u001b[39m.\u001b[39m\u001b[39m__class__\u001b[39m)\n\u001b[1;32m-> 1273\u001b[0m     \u001b[39mreturn\u001b[39;00m \u001b[39mself\u001b[39;49m\u001b[39m.\u001b[39;49mread(nbytes, buffer)\n\u001b[0;32m   1274\u001b[0m \u001b[39melse\u001b[39;00m:\n\u001b[0;32m   1275\u001b[0m     \u001b[39mreturn\u001b[39;00m \u001b[39msuper\u001b[39m()\u001b[39m.\u001b[39mrecv_into(buffer, nbytes, flags)\n",
            "File \u001b[1;32mc:\\Users\\irsya\\anaconda3\\envs\\pygeometric\\lib\\ssl.py:1129\u001b[0m, in \u001b[0;36mSSLSocket.read\u001b[1;34m(self, len, buffer)\u001b[0m\n\u001b[0;32m   1127\u001b[0m \u001b[39mtry\u001b[39;00m:\n\u001b[0;32m   1128\u001b[0m     \u001b[39mif\u001b[39;00m buffer \u001b[39mis\u001b[39;00m \u001b[39mnot\u001b[39;00m \u001b[39mNone\u001b[39;00m:\n\u001b[1;32m-> 1129\u001b[0m         \u001b[39mreturn\u001b[39;00m \u001b[39mself\u001b[39;49m\u001b[39m.\u001b[39;49m_sslobj\u001b[39m.\u001b[39;49mread(\u001b[39mlen\u001b[39;49m, buffer)\n\u001b[0;32m   1130\u001b[0m     \u001b[39melse\u001b[39;00m:\n\u001b[0;32m   1131\u001b[0m         \u001b[39mreturn\u001b[39;00m \u001b[39mself\u001b[39m\u001b[39m.\u001b[39m_sslobj\u001b[39m.\u001b[39mread(\u001b[39mlen\u001b[39m)\n",
            "\u001b[1;31mKeyboardInterrupt\u001b[0m: "
          ]
        }
      ],
      "source": [
        "dataset = OGB_MAG(root='./data', preprocess='metapath2vec', transform=T.ToUndirected())\n",
        "data = dataset[0]"
      ]
    },
    {
      "cell_type": "code",
      "execution_count": 6,
      "metadata": {
        "id": "X8PUY3ZHIhku"
      },
      "outputs": [],
      "source": [
        "class GNN(torch.nn.Module):\n",
        "    def __init__(self, hidden_channels, out_channels):\n",
        "        super().__init__()\n",
        "        self.conv1 = SAGEConv((-1, -1), hidden_channels)\n",
        "        self.conv2 = SAGEConv((-1, -1), out_channels)\n",
        "\n",
        "    def forward(self, x, edge_index):\n",
        "        x = self.conv1(x, edge_index).relu()\n",
        "        x = self.conv2(x, edge_index)\n",
        "        return x\n",
        "\n",
        "\n",
        "model = GNN(hidden_channels=64, out_channels=dataset.num_classes)\n",
        "model = to_hetero(model, data.metadata(), aggr='sum')"
      ]
    },
    {
      "cell_type": "code",
      "execution_count": 7,
      "metadata": {
        "colab": {
          "base_uri": "https://localhost:8080/"
        },
        "id": "WkW_Ym58DHkE",
        "outputId": "7abcd476-c440-4cbb-fae6-b8cb5c2b1660"
      },
      "outputs": [
        {
          "data": {
            "text/plain": [
              "(['paper', 'author', 'institution', 'field_of_study'],\n",
              " [('author', 'affiliated_with', 'institution'),\n",
              "  ('author', 'writes', 'paper'),\n",
              "  ('paper', 'cites', 'paper'),\n",
              "  ('paper', 'has_topic', 'field_of_study'),\n",
              "  ('institution', 'rev_affiliated_with', 'author'),\n",
              "  ('paper', 'rev_writes', 'author'),\n",
              "  ('field_of_study', 'rev_has_topic', 'paper')])"
            ]
          },
          "execution_count": 7,
          "metadata": {},
          "output_type": "execute_result"
        }
      ],
      "source": [
        "data.metadata()"
      ]
    },
    {
      "cell_type": "code",
      "execution_count": 15,
      "metadata": {
        "colab": {
          "base_uri": "https://localhost:8080/"
        },
        "id": "vHi3fYkvKFwK",
        "outputId": "7497e392-6ba9-4fef-b4e3-06ab6b08ebe3"
      },
      "outputs": [
        {
          "data": {
            "text/plain": [
              "HeteroData(\n",
              "  \u001b[1mpaper\u001b[0m={\n",
              "    x=[736389, 128],\n",
              "    year=[736389],\n",
              "    y=[736389],\n",
              "    train_mask=[736389],\n",
              "    val_mask=[736389],\n",
              "    test_mask=[736389]\n",
              "  },\n",
              "  \u001b[1mauthor\u001b[0m={ x=[1134649, 128] },\n",
              "  \u001b[1minstitution\u001b[0m={ x=[8740, 128] },\n",
              "  \u001b[1mfield_of_study\u001b[0m={ x=[59965, 128] },\n",
              "  \u001b[1m(author, affiliated_with, institution)\u001b[0m={ edge_index=[2, 1043998] },\n",
              "  \u001b[1m(author, writes, paper)\u001b[0m={ edge_index=[2, 7145660] },\n",
              "  \u001b[1m(paper, cites, paper)\u001b[0m={ edge_index=[2, 10792672] },\n",
              "  \u001b[1m(paper, has_topic, field_of_study)\u001b[0m={ edge_index=[2, 7505078] },\n",
              "  \u001b[1m(institution, rev_affiliated_with, author)\u001b[0m={ edge_index=[2, 1043998] },\n",
              "  \u001b[1m(paper, rev_writes, author)\u001b[0m={ edge_index=[2, 7145660] },\n",
              "  \u001b[1m(field_of_study, rev_has_topic, paper)\u001b[0m={ edge_index=[2, 7505078] }\n",
              ")"
            ]
          },
          "execution_count": 15,
          "metadata": {},
          "output_type": "execute_result"
        }
      ],
      "source": [
        "data"
      ]
    },
    {
      "cell_type": "code",
      "execution_count": 8,
      "metadata": {
        "colab": {
          "base_uri": "https://localhost:8080/"
        },
        "id": "RETww02xPTSa",
        "outputId": "2388927a-7325-410f-96b8-d6eee0ff6f62"
      },
      "outputs": [
        {
          "data": {
            "text/plain": [
              "GraphModule(\n",
              "  (conv1): ModuleDict(\n",
              "    (author__affiliated_with__institution): SAGEConv((-1, -1), 64)\n",
              "    (author__writes__paper): SAGEConv((-1, -1), 64)\n",
              "    (paper__cites__paper): SAGEConv((-1, -1), 64)\n",
              "    (paper__has_topic__field_of_study): SAGEConv((-1, -1), 64)\n",
              "    (institution__rev_affiliated_with__author): SAGEConv((-1, -1), 64)\n",
              "    (paper__rev_writes__author): SAGEConv((-1, -1), 64)\n",
              "    (field_of_study__rev_has_topic__paper): SAGEConv((-1, -1), 64)\n",
              "  )\n",
              "  (conv2): ModuleDict(\n",
              "    (author__affiliated_with__institution): SAGEConv((-1, -1), 349)\n",
              "    (author__writes__paper): SAGEConv((-1, -1), 349)\n",
              "    (paper__cites__paper): SAGEConv((-1, -1), 349)\n",
              "    (paper__has_topic__field_of_study): SAGEConv((-1, -1), 349)\n",
              "    (institution__rev_affiliated_with__author): SAGEConv((-1, -1), 349)\n",
              "    (paper__rev_writes__author): SAGEConv((-1, -1), 349)\n",
              "    (field_of_study__rev_has_topic__paper): SAGEConv((-1, -1), 349)\n",
              "  )\n",
              ")"
            ]
          },
          "execution_count": 8,
          "metadata": {},
          "output_type": "execute_result"
        }
      ],
      "source": [
        "model"
      ]
    },
    {
      "cell_type": "code",
      "execution_count": 11,
      "metadata": {
        "id": "fxhvm-r2maH4"
      },
      "outputs": [],
      "source": [
        "# Use GPU\n",
        "#device = torch.device(\"cpu\")\n",
        "device = torch.device(\"cuda:0\" if torch.cuda.is_available() else \"cpu\")\n",
        "\n",
        "model = model.to(device)\n",
        "data = data.to(device)\n",
        "\n",
        "# Initialize Optimizer\n",
        "learning_rate = 0.01\n",
        "decay = 5e-4\n",
        "optimizer = torch.optim.Adam(model.parameters(), \n",
        "                             lr=learning_rate, \n",
        "                             weight_decay=decay)\n",
        "# Define loss function (CrossEntropyLoss for Classification Problems with \n",
        "# probability distributions)\n",
        "#criterion = torch.nn.CrossEntropyLoss()"
      ]
    },
    {
      "cell_type": "code",
      "execution_count": 12,
      "metadata": {
        "id": "coV8gekfJAeT"
      },
      "outputs": [],
      "source": [
        "def train():\n",
        "      model.train()\n",
        "      optimizer.zero_grad() \n",
        "      # Use all data as input, because all nodes have node features\n",
        "      out = model(data.x_dict, data.edge_index_dict)  \n",
        "      # Only use nodes with labels available for loss calculation --> mask\n",
        "      mask = data['paper'].train_mask\n",
        "      loss = F.cross_entropy(out['paper'][mask], data['paper'].y[mask])\n",
        "      loss.backward() \n",
        "      optimizer.step()\n",
        "      return loss\n",
        "\n",
        "def test():\n",
        "      model.eval()\n",
        "      out = model(data.x, data.edge_index)\n",
        "      # Use the class with highest probability.\n",
        "      pred = out.argmax(dim=1)  \n",
        "      # Check against ground-truth labels.\n",
        "      test_correct = pred[data.test_mask] == data.y[data.test_mask]  \n",
        "      # Derive ratio of correct predictions.\n",
        "      test_acc = int(test_correct.sum()) / int(data.test_mask.sum())  \n",
        "      return test_acc"
      ]
    },
    {
      "cell_type": "code",
      "execution_count": 14,
      "metadata": {
        "colab": {
          "base_uri": "https://localhost:8080/"
        },
        "id": "snpjrj8zJAia",
        "outputId": "9c1f941c-1ceb-4e67-e2c8-88bd2c670906"
      },
      "outputs": [
        {
          "name": "stdout",
          "output_type": "stream",
          "text": [
            "Epoch: 000, Loss: 3.3653\n",
            "Epoch: 001, Loss: 3.2315\n",
            "Epoch: 002, Loss: 3.1098\n",
            "Epoch: 003, Loss: 3.0121\n",
            "Epoch: 004, Loss: 2.9300\n",
            "Epoch: 005, Loss: 2.8586\n",
            "Epoch: 006, Loss: 2.8009\n",
            "Epoch: 007, Loss: 2.7534\n",
            "Epoch: 008, Loss: 2.7079\n",
            "Epoch: 009, Loss: 2.6704\n",
            "Epoch: 010, Loss: 2.6368\n",
            "Epoch: 011, Loss: 2.6024\n",
            "Epoch: 012, Loss: 2.5728\n",
            "Epoch: 013, Loss: 2.5452\n",
            "Epoch: 014, Loss: 2.5205\n",
            "Epoch: 015, Loss: 2.4997\n",
            "Epoch: 016, Loss: 2.4820\n",
            "Epoch: 017, Loss: 2.4640\n",
            "Epoch: 018, Loss: 2.4457\n",
            "Epoch: 019, Loss: 2.4255\n"
          ]
        }
      ],
      "source": [
        "losses = []\n",
        "for epoch in range(0, 20):\n",
        "    loss = train()\n",
        "    losses.append(loss)\n",
        "    print(f'Epoch: {epoch:03d}, Loss: {loss:.4f}')"
      ]
    },
    {
      "cell_type": "code",
      "execution_count": null,
      "metadata": {
        "colab": {
          "base_uri": "https://localhost:8080/"
        },
        "id": "z2M2QzQi6FNR",
        "outputId": "44e3f112-e35f-4ded-ccd1-08192247d172"
      },
      "outputs": [
        {
          "data": {
            "text/plain": [
              "device(type='cuda', index=0)"
            ]
          },
          "execution_count": 29,
          "metadata": {},
          "output_type": "execute_result"
        }
      ],
      "source": [
        "device"
      ]
    },
    {
      "cell_type": "code",
      "execution_count": null,
      "metadata": {
        "colab": {
          "base_uri": "https://localhost:8080/"
        },
        "id": "W1wLi-YX9qi0",
        "outputId": "228c8523-82e6-487c-d464-41691ca4261f"
      },
      "outputs": [
        {
          "data": {
            "text/plain": [
              "{'author': tensor([[-0.4683,  0.1084, -0.0180,  ..., -0.2873,  0.3973,  0.0373],\n",
              "         [ 0.1035, -0.3703, -0.3722,  ...,  0.5777,  0.0044, -0.3645],\n",
              "         [ 0.3745,  0.0797,  0.3995,  ...,  0.0166, -0.5806, -0.1265],\n",
              "         ...,\n",
              "         [-0.0076,  0.6291,  0.0684,  ...,  0.0279,  0.1603, -0.0225],\n",
              "         [ 0.1657, -0.1814,  0.2352,  ..., -0.4000, -0.4608, -0.7904],\n",
              "         [-0.4098,  0.0470, -0.2027,  ...,  0.1393, -0.1985, -0.6175]],\n",
              "        device='cuda:0'),\n",
              " 'field_of_study': tensor([[ 1.7532e-02, -3.0144e-01,  3.2530e-01,  ..., -1.6283e-01,\n",
              "          -1.3862e-01,  3.3216e-01],\n",
              "         [-5.3028e-01,  1.5095e-01, -1.2914e-01,  ...,  7.6167e-02,\n",
              "           3.0035e-01, -1.5220e-02],\n",
              "         [-7.1854e-01,  6.7117e-04, -4.1465e-01,  ..., -1.5486e-01,\n",
              "          -4.1101e-01, -6.1223e-01],\n",
              "         ...,\n",
              "         [-3.1354e-01,  8.0473e-01,  9.4273e-02,  ..., -3.2736e-01,\n",
              "           7.9512e-01, -5.7828e-02],\n",
              "         [-5.5001e-01,  1.7064e-01, -3.7380e-01,  ..., -2.2461e-01,\n",
              "          -4.1444e-02,  3.8327e-01],\n",
              "         [ 7.9902e-02, -2.2594e-01, -2.3080e-01,  ..., -3.6825e-01,\n",
              "          -9.1278e-02, -3.0853e-01]], device='cuda:0'),\n",
              " 'institution': tensor([[ 0.9148, -0.4798, -0.5734,  ...,  0.5746,  0.0610,  0.4985],\n",
              "         [-0.5284, -0.1968,  0.5510,  ..., -0.5377,  0.1137,  0.2736],\n",
              "         [-0.0787, -0.1944,  0.1080,  ..., -0.1358,  0.1673, -0.0555],\n",
              "         ...,\n",
              "         [-0.0096,  0.0170,  0.1484,  ..., -0.1231,  0.1940, -0.4358],\n",
              "         [-0.5490, -0.2248, -0.0336,  ...,  0.0878,  0.2260, -0.0637],\n",
              "         [ 0.7806, -0.3770,  0.2447,  ...,  0.0272,  0.1601,  0.1370]],\n",
              "        device='cuda:0'),\n",
              " 'paper': tensor([[-0.0954,  0.0408, -0.2109,  ...,  0.0616, -0.0277, -0.1338],\n",
              "         [-0.1510, -0.1073, -0.2220,  ...,  0.3458, -0.0277, -0.2185],\n",
              "         [-0.1148, -0.1760, -0.2606,  ...,  0.1731, -0.1564, -0.2780],\n",
              "         ...,\n",
              "         [ 0.0228, -0.0865,  0.0981,  ..., -0.0547, -0.2077, -0.2305],\n",
              "         [-0.2891, -0.2029, -0.1525,  ...,  0.1042,  0.2041, -0.3528],\n",
              "         [-0.0890, -0.0348, -0.2642,  ...,  0.2601, -0.0875, -0.5171]],\n",
              "        device='cuda:0')}"
            ]
          },
          "execution_count": 30,
          "metadata": {},
          "output_type": "execute_result"
        }
      ],
      "source": [
        "data.x_dict"
      ]
    },
    {
      "cell_type": "code",
      "execution_count": null,
      "metadata": {
        "colab": {
          "base_uri": "https://localhost:8080/"
        },
        "id": "ShSDEzHb9qlX",
        "outputId": "047abc42-55b1-46cc-841d-787650ba3f9c"
      },
      "outputs": [
        {
          "data": {
            "text/plain": [
              "{('author',\n",
              "  'affiliated_with',\n",
              "  'institution'): tensor([[      0,       1,       2,  ..., 1134645, 1134647, 1134648],\n",
              "         [    845,     996,    3197,  ...,    5189,    4668,    4668]],\n",
              "        device='cuda:0'),\n",
              " ('author',\n",
              "  'writes',\n",
              "  'paper'): tensor([[      0,       0,       0,  ..., 1134647, 1134648, 1134648],\n",
              "         [  19703,  289285,  311768,  ...,  657395,  671118,  719594]],\n",
              "        device='cuda:0'),\n",
              " ('field_of_study',\n",
              "  'rev_has_topic',\n",
              "  'paper'): tensor([[   145,   2215,   3205,  ...,  21458,  22283,  31934],\n",
              "         [     0,      0,      0,  ..., 736388, 736388, 736388]],\n",
              "        device='cuda:0'),\n",
              " ('institution',\n",
              "  'rev_affiliated_with',\n",
              "  'author'): tensor([[    845,     996,    3197,  ...,    5189,    4668,    4668],\n",
              "         [      0,       1,       2,  ..., 1134645, 1134647, 1134648]],\n",
              "        device='cuda:0'),\n",
              " ('paper',\n",
              "  'cites',\n",
              "  'paper'): tensor([[     0,      0,      0,  ..., 736388, 736388, 736388],\n",
              "         [    88,  27449, 121051,  ..., 707740, 732008, 732389]],\n",
              "        device='cuda:0'),\n",
              " ('paper',\n",
              "  'has_topic',\n",
              "  'field_of_study'): tensor([[     0,      0,      0,  ..., 736388, 736388, 736388],\n",
              "         [   145,   2215,   3205,  ...,  21458,  22283,  31934]],\n",
              "        device='cuda:0'),\n",
              " ('paper',\n",
              "  'rev_writes',\n",
              "  'author'): tensor([[  19703,  289285,  311768,  ...,  657395,  671118,  719594],\n",
              "         [      0,       0,       0,  ..., 1134647, 1134648, 1134648]],\n",
              "        device='cuda:0')}"
            ]
          },
          "execution_count": 31,
          "metadata": {},
          "output_type": "execute_result"
        }
      ],
      "source": [
        "data.edge_index_dict"
      ]
    },
    {
      "cell_type": "code",
      "execution_count": null,
      "metadata": {
        "id": "nqr_dS7k9qoA"
      },
      "outputs": [],
      "source": []
    },
    {
      "cell_type": "code",
      "execution_count": null,
      "metadata": {
        "id": "setPdR5r9qqU"
      },
      "outputs": [],
      "source": []
    },
    {
      "cell_type": "code",
      "execution_count": null,
      "metadata": {
        "id": "PD-gA4KU9qsr"
      },
      "outputs": [],
      "source": []
    },
    {
      "cell_type": "code",
      "execution_count": null,
      "metadata": {
        "id": "UOgo_nUa9qvB"
      },
      "outputs": [],
      "source": []
    }
  ],
  "metadata": {
    "accelerator": "GPU",
    "colab": {
      "collapsed_sections": [],
      "machine_shape": "hm",
      "name": "GNN-Hetero-KG-OBG.ipynb",
      "provenance": []
    },
    "gpuClass": "standard",
    "kernelspec": {
      "display_name": "Python 3.10.4 ('pygeometric')",
      "language": "python",
      "name": "python3"
    },
    "language_info": {
      "codemirror_mode": {
        "name": "ipython",
        "version": 3
      },
      "file_extension": ".py",
      "mimetype": "text/x-python",
      "name": "python",
      "nbconvert_exporter": "python",
      "pygments_lexer": "ipython3",
      "version": "3.10.4"
    },
    "vscode": {
      "interpreter": {
        "hash": "1e3677bee2f9259cdb2d69303ab93372b21cc0104bf4266440179147128bd139"
      }
    }
  },
  "nbformat": 4,
  "nbformat_minor": 0
}
